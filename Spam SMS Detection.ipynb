{
 "cells": [
  {
   "cell_type": "markdown",
   "id": "ca76c2f2",
   "metadata": {},
   "source": [
    "# CODESOFT TASK-3"
   ]
  },
  {
   "cell_type": "markdown",
   "id": "9130744a",
   "metadata": {},
   "source": [
    "# Spam SMS Detection"
   ]
  },
  {
   "cell_type": "markdown",
   "id": "00315d40",
   "metadata": {},
   "source": [
    "Importing Libraries"
   ]
  },
  {
   "cell_type": "code",
   "execution_count": 56,
   "id": "d901132f",
   "metadata": {},
   "outputs": [],
   "source": [
    "import numpy as np\n",
    "import pandas as pd\n",
    "import seaborn as sns\n",
    "import matplotlib.pyplot as plt"
   ]
  },
  {
   "cell_type": "markdown",
   "id": "abea72ef",
   "metadata": {},
   "source": [
    "Loading the dataset"
   ]
  },
  {
   "cell_type": "code",
   "execution_count": 57,
   "id": "51f4ad69",
   "metadata": {},
   "outputs": [],
   "source": [
    "Data=pd.read_csv(\"spam.csv\",encoding='latin-1')"
   ]
  },
  {
   "cell_type": "markdown",
   "id": "bd77cf17",
   "metadata": {},
   "source": [
    " first five rows of dataset"
   ]
  },
  {
   "cell_type": "code",
   "execution_count": 58,
   "id": "fb09f5c4",
   "metadata": {},
   "outputs": [
    {
     "data": {
      "text/html": [
       "<div>\n",
       "<style scoped>\n",
       "    .dataframe tbody tr th:only-of-type {\n",
       "        vertical-align: middle;\n",
       "    }\n",
       "\n",
       "    .dataframe tbody tr th {\n",
       "        vertical-align: top;\n",
       "    }\n",
       "\n",
       "    .dataframe thead th {\n",
       "        text-align: right;\n",
       "    }\n",
       "</style>\n",
       "<table border=\"1\" class=\"dataframe\">\n",
       "  <thead>\n",
       "    <tr style=\"text-align: right;\">\n",
       "      <th></th>\n",
       "      <th>v1</th>\n",
       "      <th>v2</th>\n",
       "      <th>Unnamed: 2</th>\n",
       "      <th>Unnamed: 3</th>\n",
       "      <th>Unnamed: 4</th>\n",
       "    </tr>\n",
       "  </thead>\n",
       "  <tbody>\n",
       "    <tr>\n",
       "      <th>0</th>\n",
       "      <td>ham</td>\n",
       "      <td>Go until jurong point, crazy.. Available only ...</td>\n",
       "      <td>NaN</td>\n",
       "      <td>NaN</td>\n",
       "      <td>NaN</td>\n",
       "    </tr>\n",
       "    <tr>\n",
       "      <th>1</th>\n",
       "      <td>ham</td>\n",
       "      <td>Ok lar... Joking wif u oni...</td>\n",
       "      <td>NaN</td>\n",
       "      <td>NaN</td>\n",
       "      <td>NaN</td>\n",
       "    </tr>\n",
       "    <tr>\n",
       "      <th>2</th>\n",
       "      <td>spam</td>\n",
       "      <td>Free entry in 2 a wkly comp to win FA Cup fina...</td>\n",
       "      <td>NaN</td>\n",
       "      <td>NaN</td>\n",
       "      <td>NaN</td>\n",
       "    </tr>\n",
       "    <tr>\n",
       "      <th>3</th>\n",
       "      <td>ham</td>\n",
       "      <td>U dun say so early hor... U c already then say...</td>\n",
       "      <td>NaN</td>\n",
       "      <td>NaN</td>\n",
       "      <td>NaN</td>\n",
       "    </tr>\n",
       "    <tr>\n",
       "      <th>4</th>\n",
       "      <td>ham</td>\n",
       "      <td>Nah I don't think he goes to usf, he lives aro...</td>\n",
       "      <td>NaN</td>\n",
       "      <td>NaN</td>\n",
       "      <td>NaN</td>\n",
       "    </tr>\n",
       "  </tbody>\n",
       "</table>\n",
       "</div>"
      ],
      "text/plain": [
       "     v1                                                 v2 Unnamed: 2  \\\n",
       "0   ham  Go until jurong point, crazy.. Available only ...        NaN   \n",
       "1   ham                      Ok lar... Joking wif u oni...        NaN   \n",
       "2  spam  Free entry in 2 a wkly comp to win FA Cup fina...        NaN   \n",
       "3   ham  U dun say so early hor... U c already then say...        NaN   \n",
       "4   ham  Nah I don't think he goes to usf, he lives aro...        NaN   \n",
       "\n",
       "  Unnamed: 3 Unnamed: 4  \n",
       "0        NaN        NaN  \n",
       "1        NaN        NaN  \n",
       "2        NaN        NaN  \n",
       "3        NaN        NaN  \n",
       "4        NaN        NaN  "
      ]
     },
     "execution_count": 58,
     "metadata": {},
     "output_type": "execute_result"
    }
   ],
   "source": [
    "Data.head()"
   ]
  },
  {
   "cell_type": "markdown",
   "id": "be6ebdc3",
   "metadata": {},
   "source": [
    "dropping some columns"
   ]
  },
  {
   "cell_type": "code",
   "execution_count": 60,
   "id": "7bff00a8",
   "metadata": {},
   "outputs": [],
   "source": [
    "Data=Data.drop(['Unnamed: 2','Unnamed: 3','Unnamed: 4'],axis=1)"
   ]
  },
  {
   "cell_type": "markdown",
   "id": "25e6188f",
   "metadata": {},
   "source": [
    "Information of dataset"
   ]
  },
  {
   "cell_type": "code",
   "execution_count": 61,
   "id": "7529a1e2",
   "metadata": {},
   "outputs": [
    {
     "name": "stdout",
     "output_type": "stream",
     "text": [
      "<class 'pandas.core.frame.DataFrame'>\n",
      "RangeIndex: 5572 entries, 0 to 5571\n",
      "Data columns (total 2 columns):\n",
      " #   Column  Non-Null Count  Dtype \n",
      "---  ------  --------------  ----- \n",
      " 0   v1      5572 non-null   object\n",
      " 1   v2      5572 non-null   object\n",
      "dtypes: object(2)\n",
      "memory usage: 87.2+ KB\n"
     ]
    }
   ],
   "source": [
    "Data.info()"
   ]
  },
  {
   "cell_type": "code",
   "execution_count": 62,
   "id": "662bdcc0",
   "metadata": {},
   "outputs": [
    {
     "data": {
      "text/html": [
       "<div>\n",
       "<style scoped>\n",
       "    .dataframe tbody tr th:only-of-type {\n",
       "        vertical-align: middle;\n",
       "    }\n",
       "\n",
       "    .dataframe tbody tr th {\n",
       "        vertical-align: top;\n",
       "    }\n",
       "\n",
       "    .dataframe thead th {\n",
       "        text-align: right;\n",
       "    }\n",
       "</style>\n",
       "<table border=\"1\" class=\"dataframe\">\n",
       "  <thead>\n",
       "    <tr style=\"text-align: right;\">\n",
       "      <th></th>\n",
       "      <th>v1</th>\n",
       "      <th>v2</th>\n",
       "    </tr>\n",
       "  </thead>\n",
       "  <tbody>\n",
       "    <tr>\n",
       "      <th>count</th>\n",
       "      <td>5572</td>\n",
       "      <td>5572</td>\n",
       "    </tr>\n",
       "    <tr>\n",
       "      <th>unique</th>\n",
       "      <td>2</td>\n",
       "      <td>5169</td>\n",
       "    </tr>\n",
       "    <tr>\n",
       "      <th>top</th>\n",
       "      <td>ham</td>\n",
       "      <td>Sorry, I'll call later</td>\n",
       "    </tr>\n",
       "    <tr>\n",
       "      <th>freq</th>\n",
       "      <td>4825</td>\n",
       "      <td>30</td>\n",
       "    </tr>\n",
       "  </tbody>\n",
       "</table>\n",
       "</div>"
      ],
      "text/plain": [
       "          v1                      v2\n",
       "count   5572                    5572\n",
       "unique     2                    5169\n",
       "top      ham  Sorry, I'll call later\n",
       "freq    4825                      30"
      ]
     },
     "execution_count": 62,
     "metadata": {},
     "output_type": "execute_result"
    }
   ],
   "source": [
    "Data.describe()"
   ]
  },
  {
   "cell_type": "markdown",
   "id": "5ec21f3c",
   "metadata": {},
   "source": [
    "Dimensions of dataset"
   ]
  },
  {
   "cell_type": "code",
   "execution_count": 63,
   "id": "7b6f8257",
   "metadata": {},
   "outputs": [
    {
     "data": {
      "text/plain": [
       "(5572, 2)"
      ]
     },
     "execution_count": 63,
     "metadata": {},
     "output_type": "execute_result"
    }
   ],
   "source": [
    "Data.shape"
   ]
  },
  {
   "cell_type": "markdown",
   "id": "42f50988",
   "metadata": {},
   "source": [
    "Missing value Treatment"
   ]
  },
  {
   "cell_type": "code",
   "execution_count": 64,
   "id": "74310cd8",
   "metadata": {},
   "outputs": [
    {
     "data": {
      "text/plain": [
       "v1    0\n",
       "v2    0\n",
       "dtype: int64"
      ]
     },
     "execution_count": 64,
     "metadata": {},
     "output_type": "execute_result"
    }
   ],
   "source": [
    "Data.isnull().sum()"
   ]
  },
  {
   "cell_type": "code",
   "execution_count": 65,
   "id": "7b7280bb",
   "metadata": {},
   "outputs": [
    {
     "data": {
      "text/plain": [
       "Index(['v1', 'v2'], dtype='object')"
      ]
     },
     "execution_count": 65,
     "metadata": {},
     "output_type": "execute_result"
    }
   ],
   "source": [
    "Data.columns"
   ]
  },
  {
   "cell_type": "markdown",
   "id": "ba67f525",
   "metadata": {},
   "source": [
    "renaming the columns"
   ]
  },
  {
   "cell_type": "code",
   "execution_count": 66,
   "id": "f0ae082e",
   "metadata": {},
   "outputs": [],
   "source": [
    "Data=Data.rename(columns={'v1':\"class\",'v2':\"text\"})"
   ]
  },
  {
   "cell_type": "code",
   "execution_count": 67,
   "id": "dc686d5b",
   "metadata": {},
   "outputs": [
    {
     "data": {
      "text/html": [
       "<div>\n",
       "<style scoped>\n",
       "    .dataframe tbody tr th:only-of-type {\n",
       "        vertical-align: middle;\n",
       "    }\n",
       "\n",
       "    .dataframe tbody tr th {\n",
       "        vertical-align: top;\n",
       "    }\n",
       "\n",
       "    .dataframe thead th {\n",
       "        text-align: right;\n",
       "    }\n",
       "</style>\n",
       "<table border=\"1\" class=\"dataframe\">\n",
       "  <thead>\n",
       "    <tr style=\"text-align: right;\">\n",
       "      <th></th>\n",
       "      <th>class</th>\n",
       "      <th>text</th>\n",
       "    </tr>\n",
       "  </thead>\n",
       "  <tbody>\n",
       "    <tr>\n",
       "      <th>0</th>\n",
       "      <td>ham</td>\n",
       "      <td>Go until jurong point, crazy.. Available only ...</td>\n",
       "    </tr>\n",
       "    <tr>\n",
       "      <th>1</th>\n",
       "      <td>ham</td>\n",
       "      <td>Ok lar... Joking wif u oni...</td>\n",
       "    </tr>\n",
       "    <tr>\n",
       "      <th>2</th>\n",
       "      <td>spam</td>\n",
       "      <td>Free entry in 2 a wkly comp to win FA Cup fina...</td>\n",
       "    </tr>\n",
       "    <tr>\n",
       "      <th>3</th>\n",
       "      <td>ham</td>\n",
       "      <td>U dun say so early hor... U c already then say...</td>\n",
       "    </tr>\n",
       "    <tr>\n",
       "      <th>4</th>\n",
       "      <td>ham</td>\n",
       "      <td>Nah I don't think he goes to usf, he lives aro...</td>\n",
       "    </tr>\n",
       "  </tbody>\n",
       "</table>\n",
       "</div>"
      ],
      "text/plain": [
       "  class                                               text\n",
       "0   ham  Go until jurong point, crazy.. Available only ...\n",
       "1   ham                      Ok lar... Joking wif u oni...\n",
       "2  spam  Free entry in 2 a wkly comp to win FA Cup fina...\n",
       "3   ham  U dun say so early hor... U c already then say...\n",
       "4   ham  Nah I don't think he goes to usf, he lives aro..."
      ]
     },
     "execution_count": 67,
     "metadata": {},
     "output_type": "execute_result"
    }
   ],
   "source": [
    "Data.head()"
   ]
  },
  {
   "cell_type": "markdown",
   "id": "1b2236f1",
   "metadata": {},
   "source": [
    "# Data Visualization"
   ]
  },
  {
   "cell_type": "markdown",
   "id": "b7216fea",
   "metadata": {},
   "source": [
    "Univariate Analysis"
   ]
  },
  {
   "cell_type": "markdown",
   "id": "81a62e1e",
   "metadata": {},
   "source": [
    "Frequency table for class variable"
   ]
  },
  {
   "cell_type": "code",
   "execution_count": 68,
   "id": "72c99488",
   "metadata": {},
   "outputs": [
    {
     "data": {
      "text/plain": [
       "ham     4825\n",
       "spam     747\n",
       "Name: class, dtype: int64"
      ]
     },
     "execution_count": 68,
     "metadata": {},
     "output_type": "execute_result"
    }
   ],
   "source": [
    "Data['class'].value_counts()"
   ]
  },
  {
   "cell_type": "markdown",
   "id": "71dbc9c6",
   "metadata": {},
   "source": [
    "Barplot"
   ]
  },
  {
   "cell_type": "code",
   "execution_count": 69,
   "id": "8d0b0487",
   "metadata": {},
   "outputs": [
    {
     "data": {
      "text/plain": [
       "<Axes: >"
      ]
     },
     "execution_count": 69,
     "metadata": {},
     "output_type": "execute_result"
    },
    {
     "data": {
      "image/png": "[encoded data removed]",
      "text/plain": [
       "<Figure size 640x480 with 1 Axes>"
      ]
     },
     "metadata": {},
     "output_type": "display_data"
    }
   ],
   "source": [
    "Data['class'].value_counts().plot.bar()"
   ]
  },
  {
   "cell_type": "markdown",
   "id": "830b57bb",
   "metadata": {},
   "source": [
    "Bivariate analysis"
   ]
  },
  {
   "cell_type": "markdown",
   "id": "e393e7b7",
   "metadata": {},
   "source": [
    "Two way table"
   ]
  },
  {
   "cell_type": "code",
   "execution_count": 70,
   "id": "9d0024fc",
   "metadata": {},
   "outputs": [
    {
     "data": {
      "text/html": [
       "<div>\n",
       "<style scoped>\n",
       "    .dataframe tbody tr th:only-of-type {\n",
       "        vertical-align: middle;\n",
       "    }\n",
       "\n",
       "    .dataframe tbody tr th {\n",
       "        vertical-align: top;\n",
       "    }\n",
       "\n",
       "    .dataframe thead th {\n",
       "        text-align: right;\n",
       "    }\n",
       "</style>\n",
       "<table border=\"1\" class=\"dataframe\">\n",
       "  <thead>\n",
       "    <tr style=\"text-align: right;\">\n",
       "      <th>text</th>\n",
       "      <th>&amp;lt;#&amp;gt;  in mca. But not conform.</th>\n",
       "      <th>&amp;lt;#&amp;gt;  mins but i had to stop somewhere first.</th>\n",
       "      <th>&amp;lt;DECIMAL&amp;gt; m but its not a common car here so its better to buy from china or asia. Or if i find it less expensive. I.ll holla</th>\n",
       "      <th>and  picking them up from various points</th>\n",
       "      <th>came to look at the flat, seems ok, in his 50s? * Is away alot wiv work. Got woman coming at 6.30 too.</th>\n",
       "      <th>gonna let me know cos comes bak from holiday that day.  is coming. Don't4get2text me  number.</th>\n",
       "      <th>said kiss, kiss, i can't do the sound effects! He is a gorgeous man isn't he! Kind of person who needs a smile to brighten his day!</th>\n",
       "      <th>says that he's quitting at least5times a day so i wudn't take much notice of that. Nah, she didn't mind. Are you gonna see him again? Do you want to come to taunton tonight? U can tell me all about !</th>\n",
       "      <th>what number do u live at? Is it 11?</th>\n",
       "      <th>&amp;lt;#&amp;gt;  am I think? Should say on syllabus</th>\n",
       "      <th>...</th>\n",
       "      <th>ÌÏ only send me the contents page...</th>\n",
       "      <th>ÌÏ predict wat time Ì_'ll finish buying?</th>\n",
       "      <th>ÌÏ ready then call me...</th>\n",
       "      <th>ÌÏ say until like dat i dun buy ericsson oso cannot oredi lar...</th>\n",
       "      <th>ÌÏ still attending da talks?</th>\n",
       "      <th>ÌÏ still got lessons?  ÌÏ in sch?</th>\n",
       "      <th>ÌÏ takin linear algebra today?</th>\n",
       "      <th>ÌÏ thk of wat to eat tonight.</th>\n",
       "      <th>ÌÏ v ma fan...</th>\n",
       "      <th>ÌÏ wait 4 me in sch i finish ard 5..</th>\n",
       "    </tr>\n",
       "    <tr>\n",
       "      <th>class</th>\n",
       "      <th></th>\n",
       "      <th></th>\n",
       "      <th></th>\n",
       "      <th></th>\n",
       "      <th></th>\n",
       "      <th></th>\n",
       "      <th></th>\n",
       "      <th></th>\n",
       "      <th></th>\n",
       "      <th></th>\n",
       "      <th></th>\n",
       "      <th></th>\n",
       "      <th></th>\n",
       "      <th></th>\n",
       "      <th></th>\n",
       "      <th></th>\n",
       "      <th></th>\n",
       "      <th></th>\n",
       "      <th></th>\n",
       "      <th></th>\n",
       "      <th></th>\n",
       "    </tr>\n",
       "  </thead>\n",
       "  <tbody>\n",
       "    <tr>\n",
       "      <th>ham</th>\n",
       "      <td>1</td>\n",
       "      <td>1</td>\n",
       "      <td>1</td>\n",
       "      <td>1</td>\n",
       "      <td>1</td>\n",
       "      <td>1</td>\n",
       "      <td>1</td>\n",
       "      <td>1</td>\n",
       "      <td>1</td>\n",
       "      <td>1</td>\n",
       "      <td>...</td>\n",
       "      <td>1</td>\n",
       "      <td>1</td>\n",
       "      <td>1</td>\n",
       "      <td>1</td>\n",
       "      <td>1</td>\n",
       "      <td>1</td>\n",
       "      <td>1</td>\n",
       "      <td>1</td>\n",
       "      <td>1</td>\n",
       "      <td>1</td>\n",
       "    </tr>\n",
       "    <tr>\n",
       "      <th>spam</th>\n",
       "      <td>0</td>\n",
       "      <td>0</td>\n",
       "      <td>0</td>\n",
       "      <td>0</td>\n",
       "      <td>0</td>\n",
       "      <td>0</td>\n",
       "      <td>0</td>\n",
       "      <td>0</td>\n",
       "      <td>0</td>\n",
       "      <td>0</td>\n",
       "      <td>...</td>\n",
       "      <td>0</td>\n",
       "      <td>0</td>\n",
       "      <td>0</td>\n",
       "      <td>0</td>\n",
       "      <td>0</td>\n",
       "      <td>0</td>\n",
       "      <td>0</td>\n",
       "      <td>0</td>\n",
       "      <td>0</td>\n",
       "      <td>0</td>\n",
       "    </tr>\n",
       "  </tbody>\n",
       "</table>\n",
       "<p>2 rows × 5169 columns</p>\n",
       "</div>"
      ],
      "text/plain": [
       "text    &lt;#&gt;  in mca. But not conform.  \\\n",
       "class                                         \n",
       "ham                                       1   \n",
       "spam                                      0   \n",
       "\n",
       "text    &lt;#&gt;  mins but i had to stop somewhere first.  \\\n",
       "class                                                        \n",
       "ham                                                    1     \n",
       "spam                                                   0     \n",
       "\n",
       "text    &lt;DECIMAL&gt; m but its not a common car here so its better to buy from china or asia. Or if i find it less expensive. I.ll holla  \\\n",
       "class                                                                                                                                         \n",
       "ham                                                    1                                                                                      \n",
       "spam                                                   0                                                                                      \n",
       "\n",
       "text    and  picking them up from various points  \\\n",
       "class                                              \n",
       "ham                                            1   \n",
       "spam                                           0   \n",
       "\n",
       "text    came to look at the flat, seems ok, in his 50s? * Is away alot wiv work. Got woman coming at 6.30 too.  \\\n",
       "class                                                                                                            \n",
       "ham                                                    1                                                         \n",
       "spam                                                   0                                                         \n",
       "\n",
       "text    gonna let me know cos comes bak from holiday that day.  is coming. Don't4get2text me  number.   \\\n",
       "class                                                                                                    \n",
       "ham                                                    1                                                 \n",
       "spam                                                   0                                                 \n",
       "\n",
       "text    said kiss, kiss, i can't do the sound effects! He is a gorgeous man isn't he! Kind of person who needs a smile to brighten his day!   \\\n",
       "class                                                                                                                                          \n",
       "ham                                                    1                                                                                       \n",
       "spam                                                   0                                                                                       \n",
       "\n",
       "text    says that he's quitting at least5times a day so i wudn't take much notice of that. Nah, she didn't mind. Are you gonna see him again? Do you want to come to taunton tonight? U can tell me all about !  \\\n",
       "class                                                                                                                                                                                                             \n",
       "ham                                                    1                                                                                                                                                          \n",
       "spam                                                   0                                                                                                                                                          \n",
       "\n",
       "text    what number do u live at? Is it 11?  \\\n",
       "class                                         \n",
       "ham                                       1   \n",
       "spam                                      0   \n",
       "\n",
       "text   &lt;#&gt;  am I think? Should say on syllabus  ...  \\\n",
       "class                                                 ...   \n",
       "ham                                                1  ...   \n",
       "spam                                               0  ...   \n",
       "\n",
       "text   ÌÏ only send me the contents page...  \\\n",
       "class                                         \n",
       "ham                                       1   \n",
       "spam                                      0   \n",
       "\n",
       "text   ÌÏ predict wat time Ì_'ll finish buying?  ÌÏ ready then call me...  \\\n",
       "class                                                                       \n",
       "ham                                           1                         1   \n",
       "spam                                          0                         0   \n",
       "\n",
       "text   ÌÏ say until like dat i dun buy ericsson oso cannot oredi lar...  \\\n",
       "class                                                                     \n",
       "ham                                                    1                  \n",
       "spam                                                   0                  \n",
       "\n",
       "text   ÌÏ still attending da talks?  ÌÏ still got lessons?  ÌÏ in sch?  \\\n",
       "class                                                                    \n",
       "ham                               1                                  1   \n",
       "spam                              0                                  0   \n",
       "\n",
       "text   ÌÏ takin linear algebra today?  ÌÏ thk of wat to eat tonight.  \\\n",
       "class                                                                  \n",
       "ham                                 1                              1   \n",
       "spam                                0                              0   \n",
       "\n",
       "text   ÌÏ v ma fan...  ÌÏ wait 4 me in sch i finish ard 5..  \n",
       "class                                                        \n",
       "ham                 1                                     1  \n",
       "spam                0                                     0  \n",
       "\n",
       "[2 rows x 5169 columns]"
      ]
     },
     "execution_count": 70,
     "metadata": {},
     "output_type": "execute_result"
    }
   ],
   "source": [
    "pd.crosstab(Data['class'],Data['text'])"
   ]
  },
  {
   "cell_type": "code",
   "execution_count": 71,
   "id": "6a119e91",
   "metadata": {},
   "outputs": [],
   "source": [
    "from scipy.stats import chi2_contingency"
   ]
  },
  {
   "cell_type": "code",
   "execution_count": 72,
   "id": "76b7068a",
   "metadata": {},
   "outputs": [
    {
     "data": {
      "text/plain": [
       "Chi2ContingencyResult(statistic=5571.999999999999, pvalue=5.196282274479093e-05, dof=5168, expected_freq=array([[0.86593683, 0.86593683, 0.86593683, ..., 0.86593683, 0.86593683,\n",
       "        0.86593683],\n",
       "       [0.13406317, 0.13406317, 0.13406317, ..., 0.13406317, 0.13406317,\n",
       "        0.13406317]]))"
      ]
     },
     "execution_count": 72,
     "metadata": {},
     "output_type": "execute_result"
    }
   ],
   "source": [
    "chi2_contingency(pd.crosstab(Data['class'],Data['text']))"
   ]
  },
  {
   "cell_type": "markdown",
   "id": "b8e7a0ac",
   "metadata": {},
   "source": [
    "Here, pvalue is less the 0.05 ham sms are more than spam sms"
   ]
  },
  {
   "cell_type": "markdown",
   "id": "0d2cb4a0",
   "metadata": {},
   "source": [
    "Data Preprocessing"
   ]
  },
  {
   "cell_type": "code",
   "execution_count": 73,
   "id": "c943aee8",
   "metadata": {},
   "outputs": [],
   "source": [
    "Data.loc[Data[\"class\"]==\"spam\",\"class\"]=1"
   ]
  },
  {
   "cell_type": "code",
   "execution_count": 74,
   "id": "9acbac00",
   "metadata": {},
   "outputs": [],
   "source": [
    "Data.loc[Data[\"class\"]==\"ham\",\"class\"]=0"
   ]
  },
  {
   "cell_type": "markdown",
   "id": "2ab22dc1",
   "metadata": {},
   "source": [
    "Splitting data"
   ]
  },
  {
   "cell_type": "code",
   "execution_count": 75,
   "id": "664fc9db",
   "metadata": {},
   "outputs": [],
   "source": [
    "x=Data['text']"
   ]
  },
  {
   "cell_type": "code",
   "execution_count": 76,
   "id": "41e17f17",
   "metadata": {},
   "outputs": [],
   "source": [
    "y=Data['class']"
   ]
  },
  {
   "cell_type": "code",
   "execution_count": 77,
   "id": "d01d13ed",
   "metadata": {},
   "outputs": [
    {
     "name": "stdout",
     "output_type": "stream",
     "text": [
      "0       Go until jurong point, crazy.. Available only ...\n",
      "1                           Ok lar... Joking wif u oni...\n",
      "2       Free entry in 2 a wkly comp to win FA Cup fina...\n",
      "3       U dun say so early hor... U c already then say...\n",
      "4       Nah I don't think he goes to usf, he lives aro...\n",
      "                              ...                        \n",
      "5567    This is the 2nd time we have tried 2 contact u...\n",
      "5568                Will Ì_ b going to esplanade fr home?\n",
      "5569    Pity, * was in mood for that. So...any other s...\n",
      "5570    The guy did some bitching but I acted like i'd...\n",
      "5571                           Rofl. Its true to its name\n",
      "Name: text, Length: 5572, dtype: object\n"
     ]
    }
   ],
   "source": [
    "print(x)\n"
   ]
  },
  {
   "cell_type": "code",
   "execution_count": 78,
   "id": "6060814c",
   "metadata": {},
   "outputs": [
    {
     "name": "stdout",
     "output_type": "stream",
     "text": [
      "0       0\n",
      "1       0\n",
      "2       1\n",
      "3       0\n",
      "4       0\n",
      "       ..\n",
      "5567    1\n",
      "5568    0\n",
      "5569    0\n",
      "5570    0\n",
      "5571    0\n",
      "Name: class, Length: 5572, dtype: object\n"
     ]
    }
   ],
   "source": [
    "print(y)"
   ]
  },
  {
   "cell_type": "code",
   "execution_count": 79,
   "id": "622ea6ab",
   "metadata": {},
   "outputs": [],
   "source": [
    "from sklearn.model_selection import train_test_split"
   ]
  },
  {
   "cell_type": "code",
   "execution_count": 80,
   "id": "9a220b1e",
   "metadata": {},
   "outputs": [],
   "source": [
    "x_train,x_test,y_train,y_test=train_test_split(x,y,test_size=0.20)"
   ]
  },
  {
   "cell_type": "code",
   "execution_count": 81,
   "id": "99561d7f",
   "metadata": {},
   "outputs": [
    {
     "name": "stdout",
     "output_type": "stream",
     "text": [
      "(4457,)\n",
      "(1115,)\n",
      "(4457,)\n",
      "(1115,)\n"
     ]
    },
    {
     "data": {
      "text/plain": [
       "(None, None, None, None)"
      ]
     },
     "execution_count": 81,
     "metadata": {},
     "output_type": "execute_result"
    }
   ],
   "source": [
    "print(x_train.shape),print(x_test.shape),print(y_train.shape),print(y_test.shape)"
   ]
  },
  {
   "cell_type": "markdown",
   "id": "e986226f",
   "metadata": {},
   "source": [
    "Feature Extraction"
   ]
  },
  {
   "cell_type": "code",
   "execution_count": 82,
   "id": "96f95f4c",
   "metadata": {},
   "outputs": [],
   "source": [
    "from sklearn.feature_extraction.text import TfidfVectorizer"
   ]
  },
  {
   "cell_type": "code",
   "execution_count": 83,
   "id": "7f984f73",
   "metadata": {},
   "outputs": [],
   "source": [
    "fe=TfidfVectorizer(stop_words=\"english\",lowercase=True)"
   ]
  },
  {
   "cell_type": "code",
   "execution_count": 84,
   "id": "843179d8",
   "metadata": {},
   "outputs": [],
   "source": [
    "x_trainf=fe.fit_transform(x_train)"
   ]
  },
  {
   "cell_type": "code",
   "execution_count": 85,
   "id": "a952baea",
   "metadata": {},
   "outputs": [],
   "source": [
    "x_testf=fe.transform(x_test)"
   ]
  },
  {
   "cell_type": "code",
   "execution_count": 86,
   "id": "19feaf48",
   "metadata": {},
   "outputs": [],
   "source": [
    "# convert data type of y_train & y_test into int\n",
    "y_train=y_train.astype(\"int\")\n",
    "y_test=y_test.astype(\"int\")"
   ]
  },
  {
   "cell_type": "markdown",
   "id": "700bb137",
   "metadata": {},
   "source": [
    "Model fitting"
   ]
  },
  {
   "cell_type": "code",
   "execution_count": 87,
   "id": "29e3b2ef",
   "metadata": {},
   "outputs": [],
   "source": [
    "from sklearn.linear_model import LogisticRegression"
   ]
  },
  {
   "cell_type": "code",
   "execution_count": 88,
   "id": "1a1346ea",
   "metadata": {},
   "outputs": [],
   "source": [
    "lg=LogisticRegression()"
   ]
  },
  {
   "cell_type": "code",
   "execution_count": 89,
   "id": "41260cf4",
   "metadata": {},
   "outputs": [
    {
     "data": {
      "text/html": [
       "<style>#sk-container-id-2 {color: black;background-color: white;}#sk-container-id-2 pre{padding: 0;}#sk-container-id-2 div.sk-toggleable {background-color: white;}#sk-container-id-2 label.sk-toggleable__label {cursor: pointer;display: block;width: 100%;margin-bottom: 0;padding: 0.3em;box-sizing: border-box;text-align: center;}#sk-container-id-2 label.sk-toggleable__label-arrow:before {content: \"▸\";float: left;margin-right: 0.25em;color: #696969;}#sk-container-id-2 label.sk-toggleable__label-arrow:hover:before {color: black;}#sk-container-id-2 div.sk-estimator:hover label.sk-toggleable__label-arrow:before {color: black;}#sk-container-id-2 div.sk-toggleable__content {max-height: 0;max-width: 0;overflow: hidden;text-align: left;background-color: #f0f8ff;}#sk-container-id-2 div.sk-toggleable__content pre {margin: 0.2em;color: black;border-radius: 0.25em;background-color: #f0f8ff;}#sk-container-id-2 input.sk-toggleable__control:checked~div.sk-toggleable__content {max-height: 200px;max-width: 100%;overflow: auto;}#sk-container-id-2 input.sk-toggleable__control:checked~label.sk-toggleable__label-arrow:before {content: \"▾\";}#sk-container-id-2 div.sk-estimator input.sk-toggleable__control:checked~label.sk-toggleable__label {background-color: #d4ebff;}#sk-container-id-2 div.sk-label input.sk-toggleable__control:checked~label.sk-toggleable__label {background-color: #d4ebff;}#sk-container-id-2 input.sk-hidden--visually {border: 0;clip: rect(1px 1px 1px 1px);clip: rect(1px, 1px, 1px, 1px);height: 1px;margin: -1px;overflow: hidden;padding: 0;position: absolute;width: 1px;}#sk-container-id-2 div.sk-estimator {font-family: monospace;background-color: #f0f8ff;border: 1px dotted black;border-radius: 0.25em;box-sizing: border-box;margin-bottom: 0.5em;}#sk-container-id-2 div.sk-estimator:hover {background-color: #d4ebff;}#sk-container-id-2 div.sk-parallel-item::after {content: \"\";width: 100%;border-bottom: 1px solid gray;flex-grow: 1;}#sk-container-id-2 div.sk-label:hover label.sk-toggleable__label {background-color: #d4ebff;}#sk-container-id-2 div.sk-serial::before {content: \"\";position: absolute;border-left: 1px solid gray;box-sizing: border-box;top: 0;bottom: 0;left: 50%;z-index: 0;}#sk-container-id-2 div.sk-serial {display: flex;flex-direction: column;align-items: center;background-color: white;padding-right: 0.2em;padding-left: 0.2em;position: relative;}#sk-container-id-2 div.sk-item {position: relative;z-index: 1;}#sk-container-id-2 div.sk-parallel {display: flex;align-items: stretch;justify-content: center;background-color: white;position: relative;}#sk-container-id-2 div.sk-item::before, #sk-container-id-2 div.sk-parallel-item::before {content: \"\";position: absolute;border-left: 1px solid gray;box-sizing: border-box;top: 0;bottom: 0;left: 50%;z-index: -1;}#sk-container-id-2 div.sk-parallel-item {display: flex;flex-direction: column;z-index: 1;position: relative;background-color: white;}#sk-container-id-2 div.sk-parallel-item:first-child::after {align-self: flex-end;width: 50%;}#sk-container-id-2 div.sk-parallel-item:last-child::after {align-self: flex-start;width: 50%;}#sk-container-id-2 div.sk-parallel-item:only-child::after {width: 0;}#sk-container-id-2 div.sk-dashed-wrapped {border: 1px dashed gray;margin: 0 0.4em 0.5em 0.4em;box-sizing: border-box;padding-bottom: 0.4em;background-color: white;}#sk-container-id-2 div.sk-label label {font-family: monospace;font-weight: bold;display: inline-block;line-height: 1.2em;}#sk-container-id-2 div.sk-label-container {text-align: center;}#sk-container-id-2 div.sk-container {/* jupyter's `normalize.less` sets `[hidden] { display: none; }` but bootstrap.min.css set `[hidden] { display: none !important; }` so we also need the `!important` here to be able to override the default hidden behavior on the sphinx rendered scikit-learn.org. See: https://github.com/scikit-learn/scikit-learn/issues/21755 */display: inline-block !important;position: relative;}#sk-container-id-2 div.sk-text-repr-fallback {display: none;}</style><div id=\"sk-container-id-2\" class=\"sk-top-container\"><div class=\"sk-text-repr-fallback\"><pre>LogisticRegression()</pre><b>In a Jupyter environment, please rerun this cell to show the HTML representation or trust the notebook. <br />On GitHub, the HTML representation is unable to render, please try loading this page with nbviewer.org.</b></div><div class=\"sk-container\" hidden><div class=\"sk-item\"><div class=\"sk-estimator sk-toggleable\"><input class=\"sk-toggleable__control sk-hidden--visually\" id=\"sk-estimator-id-2\" type=\"checkbox\" checked><label for=\"sk-estimator-id-2\" class=\"sk-toggleable__label sk-toggleable__label-arrow\">LogisticRegression</label><div class=\"sk-toggleable__content\"><pre>LogisticRegression()</pre></div></div></div></div></div>"
      ],
      "text/plain": [
       "LogisticRegression()"
      ]
     },
     "execution_count": 89,
     "metadata": {},
     "output_type": "execute_result"
    }
   ],
   "source": [
    "lg.fit(x_trainf,y_train)"
   ]
  },
  {
   "cell_type": "markdown",
   "id": "3cce58bd",
   "metadata": {},
   "source": [
    "Prediction of train dataset"
   ]
  },
  {
   "cell_type": "code",
   "execution_count": 90,
   "id": "d43b4ade",
   "metadata": {},
   "outputs": [],
   "source": [
    "pred=lg.predict(x_trainf)"
   ]
  },
  {
   "cell_type": "markdown",
   "id": "dcbe5479",
   "metadata": {},
   "source": [
    "Accuracy of train dataset"
   ]
  },
  {
   "cell_type": "code",
   "execution_count": 91,
   "id": "ea9ac0be",
   "metadata": {},
   "outputs": [],
   "source": [
    "from sklearn.metrics import accuracy_score"
   ]
  },
  {
   "cell_type": "code",
   "execution_count": 92,
   "id": "129257b1",
   "metadata": {},
   "outputs": [
    {
     "data": {
      "text/plain": [
       "0.9683643706529056"
      ]
     },
     "execution_count": 92,
     "metadata": {},
     "output_type": "execute_result"
    }
   ],
   "source": [
    "accuracy_score(y_train,pred)"
   ]
  },
  {
   "cell_type": "markdown",
   "id": "23d156fc",
   "metadata": {},
   "source": [
    "Prediction of test dataset"
   ]
  },
  {
   "cell_type": "code",
   "execution_count": 93,
   "id": "604cfdde",
   "metadata": {},
   "outputs": [],
   "source": [
    "pred_test=lg.predict(x_testf)"
   ]
  },
  {
   "cell_type": "markdown",
   "id": "62fd740e",
   "metadata": {},
   "source": [
    "Accuracy of test dataset"
   ]
  },
  {
   "cell_type": "code",
   "execution_count": 94,
   "id": "88cbc437",
   "metadata": {},
   "outputs": [
    {
     "data": {
      "text/plain": [
       "0.9497757847533632"
      ]
     },
     "execution_count": 94,
     "metadata": {},
     "output_type": "execute_result"
    }
   ],
   "source": [
    "accuracy_score(y_test,pred_test)"
   ]
  },
  {
   "cell_type": "markdown",
   "id": "6a89549e",
   "metadata": {},
   "source": [
    "Confusion matrix"
   ]
  },
  {
   "cell_type": "code",
   "execution_count": 95,
   "id": "afdc4f90",
   "metadata": {},
   "outputs": [],
   "source": [
    "from sklearn.metrics import confusion_matrix"
   ]
  },
  {
   "cell_type": "code",
   "execution_count": 96,
   "id": "f1d4ff6b",
   "metadata": {},
   "outputs": [
    {
     "data": {
      "text/plain": [
       "<Axes: >"
      ]
     },
     "execution_count": 96,
     "metadata": {},
     "output_type": "execute_result"
    },
    {
     "data": {
      "image/png": "[encoded data removed]",
      "text/plain": [
       "<Figure size 640x480 with 2 Axes>"
      ]
     },
     "metadata": {},
     "output_type": "display_data"
    }
   ],
   "source": [
    "sns.heatmap(confusion_matrix(y_test,pred_test),annot=True)"
   ]
  },
  {
   "cell_type": "code",
   "execution_count": null,
   "id": "8d6bbf8a",
   "metadata": {},
   "outputs": [],
   "source": []
  }
 ],
 "metadata": {
  "kernelspec": {
   "display_name": "Python 3 (ipykernel)",
   "language": "python",
   "name": "python3"
  },
  "language_info": {
   "codemirror_mode": {
    "name": "ipython",
    "version": 3
   },
   "file_extension": ".py",
   "mimetype": "text/x-python",
   "name": "python",
   "nbconvert_exporter": "python",
   "pygments_lexer": "ipython3",
   "version": "3.11.3"
  }
 },
 "nbformat": 4,
 "nbformat_minor": 5
}
